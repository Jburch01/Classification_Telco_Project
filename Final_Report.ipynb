{
 "cells": [
  {
   "cell_type": "markdown",
   "id": "b9c6e691-e022-4071-88b2-1168d9dfdda2",
   "metadata": {},
   "source": [
    "# Telco Churn Report"
   ]
  },
  {
   "cell_type": "markdown",
   "id": "9e9ba48f-50a5-4750-99c6-fd45d409c04c",
   "metadata": {},
   "source": [
    "# Goal\n",
    "- Discover some potential drivers for churn\n",
    "- Delvelope machine learning models for churn prediction\n",
    "- Reccomend some key factors to reduce future churn"
   ]
  },
  {
   "cell_type": "markdown",
   "id": "32ebbb45-6ab0-4058-a3fe-16a106e03be9",
   "metadata": {},
   "source": [
    "# Imports"
   ]
  },
  {
   "cell_type": "code",
   "execution_count": 1,
   "id": "7538c80e-571e-4f7f-8a19-a7ba95e773ec",
   "metadata": {},
   "outputs": [],
   "source": [
    "from wrangle import *\n",
    "from functions import *\n",
    "\n",
    "# Visualize your success!\n",
    "import seaborn as sns\n",
    "import matplotlib.pyplot as plt\n",
    "\n",
    "#Stats\n",
    "from scipy import stats\n",
    "\n",
    "# sklearn for modeling:\n",
    "from sklearn.tree import DecisionTreeClassifier,\\\n",
    "export_text, \\\n",
    "plot_tree\n",
    "from sklearn.metrics import accuracy_score, \\\n",
    "classification_report, \\\n",
    "confusion_matrix\n",
    "from sklearn.ensemble import RandomForestClassifier\n",
    "from sklearn.linear_model import LogisticRegression"
   ]
  },
  {
   "cell_type": "markdown",
   "id": "1f0c5f32-c909-4213-940a-f4a3be168ee4",
   "metadata": {},
   "source": [
    "# Acquire "
   ]
  },
  {
   "cell_type": "markdown",
   "id": "ea4633a9-aa7b-46b0-8111-de4401ee861e",
   "metadata": {},
   "source": [
    "- Data acquired from SQL server\n",
    "- 7043 rows and 24 columns before cleaning\n",
    "- Each row represents a customer "
   ]
  },
  {
   "cell_type": "code",
   "execution_count": null,
   "id": "e4447076-a5c5-47a8-bc41-f055bb1ee39e",
   "metadata": {},
   "outputs": [],
   "source": []
  },
  {
   "cell_type": "markdown",
   "id": "7461dd1a-3f31-4dbb-bb3c-087d46eaf7d1",
   "metadata": {},
   "source": [
    "# Prepare"
   ]
  },
  {
   "cell_type": "markdown",
   "id": "97ea859e-4725-4def-accc-065cd91431f7",
   "metadata": {},
   "source": [
    "- Removed columns that weren't useful\n",
    "- Changed data types of columns that were unfriendly for machine learning (ie: removed characters such as dollar signs and commas)\n",
    "- Added encoded columns for all categorical columns \n",
    "- Split data into train, validate, and test (approx. 56/24/20) stratifying on churn"
   ]
  },
  {
   "cell_type": "code",
   "execution_count": null,
   "id": "a1d509fd-1539-4678-98c3-e122a1d99f3a",
   "metadata": {},
   "outputs": [],
   "source": []
  },
  {
   "cell_type": "markdown",
   "id": "fdcd30cb-f2ab-4768-877b-a5de0fda5c18",
   "metadata": {},
   "source": [
    "#                                   Data Dictionary"
   ]
  },
  {
   "cell_type": "markdown",
   "id": "a1b505fe-79ab-4265-ab93-66398522e394",
   "metadata": {},
   "source": [
    "\n",
    "| Feature | Values | Description                                  |\n",
    "|:-------------|:-----------|:----------------------------------------------|\n",
    "| Gender    | (M,F)       | The customer's gender.        |\n",
    "| Senior Citizen |    (Yes, No)    | Boolean of senior citizenship status |\n",
    "| Partner | (Yes, No)   | Customer's partnership status                |\n",
    "| Dependents    | (Yes,  No)       | Status of customer's dependents        |\n",
    "| Tenure |   Integer    | Number of months customer has been with Telco |\n",
    "| Phone service | (Yes, No)   | Customer's Phone service status            |\n",
    "| Multiple Lines    | (Yes, No, No phone service)       | Does customer have multiple phone lines.        |\n",
    "| Online Security |    (Yes, No, No internet service)  | Does Customer have online security services                        | \n",
    "| Online Backup Service | (Yes, No, No internet service |Does customer have Online backup services|\n",
    "| Device Protection    | (Yes, No, No internet service) | Does the customer have a device protection service |\n",
    "| Tech Support |    (Yes, No, No internet service)    | Does customer have tech support service|\n",
    "| Streaming TV| (Yes, No, No internet service)   | Does the customer stream Tv|\n",
    "| Streaming Movies| (Yes, No, No internet service)   | Does the customer stream movies|\n",
    "| Paperless Billing| (Yes, No)       | Does the customer use paperless billing|\n",
    "| Monthly Charges|    Float number   | The customers monthly bill|\n",
    "| Total Charges |  Float number   | The customers total charges to date     |\n",
    "| Churn   | (Yes, No)       | Churn status of customer |\n",
    "| Contract Type|   (month_to_month, one_year, two_yer)   | The customer's contract type |\n",
    "| Internet service type | (Fiber, DSL, None)   | What internet service type customer has |\n",
    "| Paymet Type    | (Electronic check, Mailed check, Credit card (automatic), Bank transfer (automatic)   | How the customer pays their bill |\n"
   ]
  },
  {
   "cell_type": "code",
   "execution_count": null,
   "id": "382dcbe2-f521-48a9-a34d-79b6722f3560",
   "metadata": {},
   "outputs": [],
   "source": []
  },
  {
   "cell_type": "code",
   "execution_count": 2,
   "id": "eb1b2baa-41bf-45bb-ad40-b5c08240590a",
   "metadata": {},
   "outputs": [],
   "source": [
    "# Accuring, cleaning and preping the data\n",
    "df = prep_telco()\n",
    "\n",
    "# Splitting data into train, validate, and test\n",
    "train, validate, test = train_validate_test(df, 'churn')"
   ]
  },
  {
   "cell_type": "markdown",
   "id": "26f59420-77a5-4d1e-9583-384961501b61",
   "metadata": {},
   "source": [
    "## A look at the data"
   ]
  },
  {
   "cell_type": "code",
   "execution_count": 3,
   "id": "ea563a44-bbad-4b46-ac7a-ca98135b3bc1",
   "metadata": {},
   "outputs": [
    {
     "data": {
      "text/html": [
       "<div>\n",
       "<style scoped>\n",
       "    .dataframe tbody tr th:only-of-type {\n",
       "        vertical-align: middle;\n",
       "    }\n",
       "\n",
       "    .dataframe tbody tr th {\n",
       "        vertical-align: top;\n",
       "    }\n",
       "\n",
       "    .dataframe thead th {\n",
       "        text-align: right;\n",
       "    }\n",
       "</style>\n",
       "<table border=\"1\" class=\"dataframe\">\n",
       "  <thead>\n",
       "    <tr style=\"text-align: right;\">\n",
       "      <th></th>\n",
       "      <th>customer_id</th>\n",
       "      <th>gender</th>\n",
       "      <th>senior_citizen</th>\n",
       "      <th>partner</th>\n",
       "      <th>dependents</th>\n",
       "      <th>tenure</th>\n",
       "      <th>phone_service</th>\n",
       "      <th>multiple_lines</th>\n",
       "      <th>online_security</th>\n",
       "      <th>online_backup</th>\n",
       "      <th>...</th>\n",
       "      <th>contract_type_Month-to-month</th>\n",
       "      <th>contract_type_One year</th>\n",
       "      <th>contract_type_Two year</th>\n",
       "      <th>internet_service_type_DSL</th>\n",
       "      <th>internet_service_type_Fiber optic</th>\n",
       "      <th>internet_service_type_None</th>\n",
       "      <th>payment_type_Bank transfer (automatic)</th>\n",
       "      <th>payment_type_Credit card (automatic)</th>\n",
       "      <th>payment_type_Electronic check</th>\n",
       "      <th>payment_type_Mailed check</th>\n",
       "    </tr>\n",
       "  </thead>\n",
       "  <tbody>\n",
       "    <tr>\n",
       "      <th>6633</th>\n",
       "      <td>9430-FRQOC</td>\n",
       "      <td>Female</td>\n",
       "      <td>0</td>\n",
       "      <td>No</td>\n",
       "      <td>Yes</td>\n",
       "      <td>4</td>\n",
       "      <td>Yes</td>\n",
       "      <td>Yes</td>\n",
       "      <td>No</td>\n",
       "      <td>No</td>\n",
       "      <td>...</td>\n",
       "      <td>1</td>\n",
       "      <td>0</td>\n",
       "      <td>0</td>\n",
       "      <td>0</td>\n",
       "      <td>1</td>\n",
       "      <td>0</td>\n",
       "      <td>0</td>\n",
       "      <td>0</td>\n",
       "      <td>0</td>\n",
       "      <td>1</td>\n",
       "    </tr>\n",
       "    <tr>\n",
       "      <th>1948</th>\n",
       "      <td>2826-DXLQO</td>\n",
       "      <td>Male</td>\n",
       "      <td>1</td>\n",
       "      <td>Yes</td>\n",
       "      <td>No</td>\n",
       "      <td>7</td>\n",
       "      <td>No</td>\n",
       "      <td>No phone service</td>\n",
       "      <td>Yes</td>\n",
       "      <td>No</td>\n",
       "      <td>...</td>\n",
       "      <td>1</td>\n",
       "      <td>0</td>\n",
       "      <td>0</td>\n",
       "      <td>1</td>\n",
       "      <td>0</td>\n",
       "      <td>0</td>\n",
       "      <td>1</td>\n",
       "      <td>0</td>\n",
       "      <td>0</td>\n",
       "      <td>0</td>\n",
       "    </tr>\n",
       "    <tr>\n",
       "      <th>1140</th>\n",
       "      <td>1679-JRFBR</td>\n",
       "      <td>Female</td>\n",
       "      <td>0</td>\n",
       "      <td>Yes</td>\n",
       "      <td>Yes</td>\n",
       "      <td>70</td>\n",
       "      <td>Yes</td>\n",
       "      <td>Yes</td>\n",
       "      <td>Yes</td>\n",
       "      <td>Yes</td>\n",
       "      <td>...</td>\n",
       "      <td>0</td>\n",
       "      <td>1</td>\n",
       "      <td>0</td>\n",
       "      <td>0</td>\n",
       "      <td>1</td>\n",
       "      <td>0</td>\n",
       "      <td>0</td>\n",
       "      <td>1</td>\n",
       "      <td>0</td>\n",
       "      <td>0</td>\n",
       "    </tr>\n",
       "    <tr>\n",
       "      <th>2729</th>\n",
       "      <td>3884-UEBXB</td>\n",
       "      <td>Female</td>\n",
       "      <td>0</td>\n",
       "      <td>Yes</td>\n",
       "      <td>Yes</td>\n",
       "      <td>67</td>\n",
       "      <td>No</td>\n",
       "      <td>No phone service</td>\n",
       "      <td>Yes</td>\n",
       "      <td>Yes</td>\n",
       "      <td>...</td>\n",
       "      <td>0</td>\n",
       "      <td>0</td>\n",
       "      <td>1</td>\n",
       "      <td>1</td>\n",
       "      <td>0</td>\n",
       "      <td>0</td>\n",
       "      <td>1</td>\n",
       "      <td>0</td>\n",
       "      <td>0</td>\n",
       "      <td>0</td>\n",
       "    </tr>\n",
       "    <tr>\n",
       "      <th>5507</th>\n",
       "      <td>7754-IXRMC</td>\n",
       "      <td>Female</td>\n",
       "      <td>0</td>\n",
       "      <td>No</td>\n",
       "      <td>No</td>\n",
       "      <td>1</td>\n",
       "      <td>Yes</td>\n",
       "      <td>No</td>\n",
       "      <td>No</td>\n",
       "      <td>No</td>\n",
       "      <td>...</td>\n",
       "      <td>1</td>\n",
       "      <td>0</td>\n",
       "      <td>0</td>\n",
       "      <td>1</td>\n",
       "      <td>0</td>\n",
       "      <td>0</td>\n",
       "      <td>0</td>\n",
       "      <td>0</td>\n",
       "      <td>0</td>\n",
       "      <td>1</td>\n",
       "    </tr>\n",
       "  </tbody>\n",
       "</table>\n",
       "<p>5 rows × 64 columns</p>\n",
       "</div>"
      ],
      "text/plain": [
       "     customer_id  gender  senior_citizen partner dependents  tenure  \\\n",
       "6633  9430-FRQOC  Female               0      No        Yes       4   \n",
       "1948  2826-DXLQO    Male               1     Yes         No       7   \n",
       "1140  1679-JRFBR  Female               0     Yes        Yes      70   \n",
       "2729  3884-UEBXB  Female               0     Yes        Yes      67   \n",
       "5507  7754-IXRMC  Female               0      No         No       1   \n",
       "\n",
       "     phone_service    multiple_lines online_security online_backup  ...  \\\n",
       "6633           Yes               Yes              No            No  ...   \n",
       "1948            No  No phone service             Yes            No  ...   \n",
       "1140           Yes               Yes             Yes           Yes  ...   \n",
       "2729            No  No phone service             Yes           Yes  ...   \n",
       "5507           Yes                No              No            No  ...   \n",
       "\n",
       "     contract_type_Month-to-month contract_type_One year  \\\n",
       "6633                            1                      0   \n",
       "1948                            1                      0   \n",
       "1140                            0                      1   \n",
       "2729                            0                      0   \n",
       "5507                            1                      0   \n",
       "\n",
       "     contract_type_Two year internet_service_type_DSL  \\\n",
       "6633                      0                         0   \n",
       "1948                      0                         1   \n",
       "1140                      0                         0   \n",
       "2729                      1                         1   \n",
       "5507                      0                         1   \n",
       "\n",
       "     internet_service_type_Fiber optic  internet_service_type_None  \\\n",
       "6633                                 1                           0   \n",
       "1948                                 0                           0   \n",
       "1140                                 1                           0   \n",
       "2729                                 0                           0   \n",
       "5507                                 0                           0   \n",
       "\n",
       "      payment_type_Bank transfer (automatic)  \\\n",
       "6633                                       0   \n",
       "1948                                       1   \n",
       "1140                                       0   \n",
       "2729                                       1   \n",
       "5507                                       0   \n",
       "\n",
       "     payment_type_Credit card (automatic) payment_type_Electronic check  \\\n",
       "6633                                    0                             0   \n",
       "1948                                    0                             0   \n",
       "1140                                    1                             0   \n",
       "2729                                    0                             0   \n",
       "5507                                    0                             0   \n",
       "\n",
       "     payment_type_Mailed check  \n",
       "6633                         1  \n",
       "1948                         0  \n",
       "1140                         0  \n",
       "2729                         0  \n",
       "5507                         1  \n",
       "\n",
       "[5 rows x 64 columns]"
      ]
     },
     "execution_count": 3,
     "metadata": {},
     "output_type": "execute_result"
    }
   ],
   "source": [
    "train.head()"
   ]
  },
  {
   "cell_type": "markdown",
   "id": "219cf0f4-3ffb-41bf-bcbf-782efcb030d4",
   "metadata": {},
   "source": [
    "## A summary of the data"
   ]
  },
  {
   "cell_type": "code",
   "execution_count": 4,
   "id": "04c5e97e-d095-45f8-ab12-6bed19f48d17",
   "metadata": {},
   "outputs": [
    {
     "data": {
      "text/html": [
       "<div>\n",
       "<style scoped>\n",
       "    .dataframe tbody tr th:only-of-type {\n",
       "        vertical-align: middle;\n",
       "    }\n",
       "\n",
       "    .dataframe tbody tr th {\n",
       "        vertical-align: top;\n",
       "    }\n",
       "\n",
       "    .dataframe thead th {\n",
       "        text-align: right;\n",
       "    }\n",
       "</style>\n",
       "<table border=\"1\" class=\"dataframe\">\n",
       "  <thead>\n",
       "    <tr style=\"text-align: right;\">\n",
       "      <th></th>\n",
       "      <th>senior_citizen</th>\n",
       "      <th>tenure</th>\n",
       "      <th>monthly_charges</th>\n",
       "      <th>total_charges</th>\n",
       "      <th>gender_Female</th>\n",
       "      <th>gender_Male</th>\n",
       "      <th>partner_No</th>\n",
       "      <th>partner_Yes</th>\n",
       "      <th>dependents_No</th>\n",
       "      <th>dependents_Yes</th>\n",
       "      <th>...</th>\n",
       "      <th>contract_type_Month-to-month</th>\n",
       "      <th>contract_type_One year</th>\n",
       "      <th>contract_type_Two year</th>\n",
       "      <th>internet_service_type_DSL</th>\n",
       "      <th>internet_service_type_Fiber optic</th>\n",
       "      <th>internet_service_type_None</th>\n",
       "      <th>payment_type_Bank transfer (automatic)</th>\n",
       "      <th>payment_type_Credit card (automatic)</th>\n",
       "      <th>payment_type_Electronic check</th>\n",
       "      <th>payment_type_Mailed check</th>\n",
       "    </tr>\n",
       "  </thead>\n",
       "  <tbody>\n",
       "    <tr>\n",
       "      <th>count</th>\n",
       "      <td>3943.000000</td>\n",
       "      <td>3943.000000</td>\n",
       "      <td>3943.000000</td>\n",
       "      <td>3943.000000</td>\n",
       "      <td>3943.000000</td>\n",
       "      <td>3943.000000</td>\n",
       "      <td>3943.000000</td>\n",
       "      <td>3943.000000</td>\n",
       "      <td>3943.000000</td>\n",
       "      <td>3943.000000</td>\n",
       "      <td>...</td>\n",
       "      <td>3943.000000</td>\n",
       "      <td>3943.000000</td>\n",
       "      <td>3943.000000</td>\n",
       "      <td>3943.000000</td>\n",
       "      <td>3943.000000</td>\n",
       "      <td>3943.000000</td>\n",
       "      <td>3943.000000</td>\n",
       "      <td>3943.000000</td>\n",
       "      <td>3943.000000</td>\n",
       "      <td>3943.000000</td>\n",
       "    </tr>\n",
       "    <tr>\n",
       "      <th>mean</th>\n",
       "      <td>0.161552</td>\n",
       "      <td>32.399949</td>\n",
       "      <td>64.955009</td>\n",
       "      <td>3276.538283</td>\n",
       "      <td>0.492265</td>\n",
       "      <td>0.507735</td>\n",
       "      <td>0.516865</td>\n",
       "      <td>0.483135</td>\n",
       "      <td>0.705047</td>\n",
       "      <td>0.294953</td>\n",
       "      <td>...</td>\n",
       "      <td>0.551864</td>\n",
       "      <td>0.204920</td>\n",
       "      <td>0.243216</td>\n",
       "      <td>0.332995</td>\n",
       "      <td>0.447375</td>\n",
       "      <td>0.219630</td>\n",
       "      <td>0.213036</td>\n",
       "      <td>0.222927</td>\n",
       "      <td>0.335278</td>\n",
       "      <td>0.228760</td>\n",
       "    </tr>\n",
       "    <tr>\n",
       "      <th>std</th>\n",
       "      <td>0.368086</td>\n",
       "      <td>24.609060</td>\n",
       "      <td>30.217911</td>\n",
       "      <td>7093.200088</td>\n",
       "      <td>0.500004</td>\n",
       "      <td>0.500004</td>\n",
       "      <td>0.499779</td>\n",
       "      <td>0.499779</td>\n",
       "      <td>0.456080</td>\n",
       "      <td>0.456080</td>\n",
       "      <td>...</td>\n",
       "      <td>0.497366</td>\n",
       "      <td>0.403694</td>\n",
       "      <td>0.429079</td>\n",
       "      <td>0.471345</td>\n",
       "      <td>0.497286</td>\n",
       "      <td>0.414048</td>\n",
       "      <td>0.409505</td>\n",
       "      <td>0.416262</td>\n",
       "      <td>0.472147</td>\n",
       "      <td>0.420088</td>\n",
       "    </tr>\n",
       "    <tr>\n",
       "      <th>min</th>\n",
       "      <td>0.000000</td>\n",
       "      <td>0.000000</td>\n",
       "      <td>18.250000</td>\n",
       "      <td>0.000000</td>\n",
       "      <td>0.000000</td>\n",
       "      <td>0.000000</td>\n",
       "      <td>0.000000</td>\n",
       "      <td>0.000000</td>\n",
       "      <td>0.000000</td>\n",
       "      <td>0.000000</td>\n",
       "      <td>...</td>\n",
       "      <td>0.000000</td>\n",
       "      <td>0.000000</td>\n",
       "      <td>0.000000</td>\n",
       "      <td>0.000000</td>\n",
       "      <td>0.000000</td>\n",
       "      <td>0.000000</td>\n",
       "      <td>0.000000</td>\n",
       "      <td>0.000000</td>\n",
       "      <td>0.000000</td>\n",
       "      <td>0.000000</td>\n",
       "    </tr>\n",
       "    <tr>\n",
       "      <th>25%</th>\n",
       "      <td>0.000000</td>\n",
       "      <td>9.000000</td>\n",
       "      <td>35.250000</td>\n",
       "      <td>435.025000</td>\n",
       "      <td>0.000000</td>\n",
       "      <td>0.000000</td>\n",
       "      <td>0.000000</td>\n",
       "      <td>0.000000</td>\n",
       "      <td>0.000000</td>\n",
       "      <td>0.000000</td>\n",
       "      <td>...</td>\n",
       "      <td>0.000000</td>\n",
       "      <td>0.000000</td>\n",
       "      <td>0.000000</td>\n",
       "      <td>0.000000</td>\n",
       "      <td>0.000000</td>\n",
       "      <td>0.000000</td>\n",
       "      <td>0.000000</td>\n",
       "      <td>0.000000</td>\n",
       "      <td>0.000000</td>\n",
       "      <td>0.000000</td>\n",
       "    </tr>\n",
       "    <tr>\n",
       "      <th>50%</th>\n",
       "      <td>0.000000</td>\n",
       "      <td>29.000000</td>\n",
       "      <td>70.650000</td>\n",
       "      <td>1468.900000</td>\n",
       "      <td>0.000000</td>\n",
       "      <td>1.000000</td>\n",
       "      <td>1.000000</td>\n",
       "      <td>0.000000</td>\n",
       "      <td>1.000000</td>\n",
       "      <td>0.000000</td>\n",
       "      <td>...</td>\n",
       "      <td>1.000000</td>\n",
       "      <td>0.000000</td>\n",
       "      <td>0.000000</td>\n",
       "      <td>0.000000</td>\n",
       "      <td>0.000000</td>\n",
       "      <td>0.000000</td>\n",
       "      <td>0.000000</td>\n",
       "      <td>0.000000</td>\n",
       "      <td>0.000000</td>\n",
       "      <td>0.000000</td>\n",
       "    </tr>\n",
       "    <tr>\n",
       "      <th>75%</th>\n",
       "      <td>0.000000</td>\n",
       "      <td>55.000000</td>\n",
       "      <td>90.050000</td>\n",
       "      <td>4136.800000</td>\n",
       "      <td>1.000000</td>\n",
       "      <td>1.000000</td>\n",
       "      <td>1.000000</td>\n",
       "      <td>1.000000</td>\n",
       "      <td>1.000000</td>\n",
       "      <td>1.000000</td>\n",
       "      <td>...</td>\n",
       "      <td>1.000000</td>\n",
       "      <td>0.000000</td>\n",
       "      <td>0.000000</td>\n",
       "      <td>1.000000</td>\n",
       "      <td>1.000000</td>\n",
       "      <td>0.000000</td>\n",
       "      <td>0.000000</td>\n",
       "      <td>0.000000</td>\n",
       "      <td>1.000000</td>\n",
       "      <td>0.000000</td>\n",
       "    </tr>\n",
       "    <tr>\n",
       "      <th>max</th>\n",
       "      <td>1.000000</td>\n",
       "      <td>72.000000</td>\n",
       "      <td>118.750000</td>\n",
       "      <td>84050.000000</td>\n",
       "      <td>1.000000</td>\n",
       "      <td>1.000000</td>\n",
       "      <td>1.000000</td>\n",
       "      <td>1.000000</td>\n",
       "      <td>1.000000</td>\n",
       "      <td>1.000000</td>\n",
       "      <td>...</td>\n",
       "      <td>1.000000</td>\n",
       "      <td>1.000000</td>\n",
       "      <td>1.000000</td>\n",
       "      <td>1.000000</td>\n",
       "      <td>1.000000</td>\n",
       "      <td>1.000000</td>\n",
       "      <td>1.000000</td>\n",
       "      <td>1.000000</td>\n",
       "      <td>1.000000</td>\n",
       "      <td>1.000000</td>\n",
       "    </tr>\n",
       "  </tbody>\n",
       "</table>\n",
       "<p>8 rows × 47 columns</p>\n",
       "</div>"
      ],
      "text/plain": [
       "       senior_citizen       tenure  monthly_charges  total_charges  \\\n",
       "count     3943.000000  3943.000000      3943.000000    3943.000000   \n",
       "mean         0.161552    32.399949        64.955009    3276.538283   \n",
       "std          0.368086    24.609060        30.217911    7093.200088   \n",
       "min          0.000000     0.000000        18.250000       0.000000   \n",
       "25%          0.000000     9.000000        35.250000     435.025000   \n",
       "50%          0.000000    29.000000        70.650000    1468.900000   \n",
       "75%          0.000000    55.000000        90.050000    4136.800000   \n",
       "max          1.000000    72.000000       118.750000   84050.000000   \n",
       "\n",
       "       gender_Female  gender_Male   partner_No  partner_Yes  dependents_No  \\\n",
       "count    3943.000000  3943.000000  3943.000000  3943.000000    3943.000000   \n",
       "mean        0.492265     0.507735     0.516865     0.483135       0.705047   \n",
       "std         0.500004     0.500004     0.499779     0.499779       0.456080   \n",
       "min         0.000000     0.000000     0.000000     0.000000       0.000000   \n",
       "25%         0.000000     0.000000     0.000000     0.000000       0.000000   \n",
       "50%         0.000000     1.000000     1.000000     0.000000       1.000000   \n",
       "75%         1.000000     1.000000     1.000000     1.000000       1.000000   \n",
       "max         1.000000     1.000000     1.000000     1.000000       1.000000   \n",
       "\n",
       "       dependents_Yes  ...  contract_type_Month-to-month  \\\n",
       "count     3943.000000  ...                   3943.000000   \n",
       "mean         0.294953  ...                      0.551864   \n",
       "std          0.456080  ...                      0.497366   \n",
       "min          0.000000  ...                      0.000000   \n",
       "25%          0.000000  ...                      0.000000   \n",
       "50%          0.000000  ...                      1.000000   \n",
       "75%          1.000000  ...                      1.000000   \n",
       "max          1.000000  ...                      1.000000   \n",
       "\n",
       "       contract_type_One year  contract_type_Two year  \\\n",
       "count             3943.000000             3943.000000   \n",
       "mean                 0.204920                0.243216   \n",
       "std                  0.403694                0.429079   \n",
       "min                  0.000000                0.000000   \n",
       "25%                  0.000000                0.000000   \n",
       "50%                  0.000000                0.000000   \n",
       "75%                  0.000000                0.000000   \n",
       "max                  1.000000                1.000000   \n",
       "\n",
       "       internet_service_type_DSL  internet_service_type_Fiber optic  \\\n",
       "count                3943.000000                        3943.000000   \n",
       "mean                    0.332995                           0.447375   \n",
       "std                     0.471345                           0.497286   \n",
       "min                     0.000000                           0.000000   \n",
       "25%                     0.000000                           0.000000   \n",
       "50%                     0.000000                           0.000000   \n",
       "75%                     1.000000                           1.000000   \n",
       "max                     1.000000                           1.000000   \n",
       "\n",
       "       internet_service_type_None  payment_type_Bank transfer (automatic)  \\\n",
       "count                 3943.000000                             3943.000000   \n",
       "mean                     0.219630                                0.213036   \n",
       "std                      0.414048                                0.409505   \n",
       "min                      0.000000                                0.000000   \n",
       "25%                      0.000000                                0.000000   \n",
       "50%                      0.000000                                0.000000   \n",
       "75%                      0.000000                                0.000000   \n",
       "max                      1.000000                                1.000000   \n",
       "\n",
       "       payment_type_Credit card (automatic)  payment_type_Electronic check  \\\n",
       "count                           3943.000000                    3943.000000   \n",
       "mean                               0.222927                       0.335278   \n",
       "std                                0.416262                       0.472147   \n",
       "min                                0.000000                       0.000000   \n",
       "25%                                0.000000                       0.000000   \n",
       "50%                                0.000000                       0.000000   \n",
       "75%                                0.000000                       1.000000   \n",
       "max                                1.000000                       1.000000   \n",
       "\n",
       "       payment_type_Mailed check  \n",
       "count                3943.000000  \n",
       "mean                    0.228760  \n",
       "std                     0.420088  \n",
       "min                     0.000000  \n",
       "25%                     0.000000  \n",
       "50%                     0.000000  \n",
       "75%                     0.000000  \n",
       "max                     1.000000  \n",
       "\n",
       "[8 rows x 47 columns]"
      ]
     },
     "execution_count": 4,
     "metadata": {},
     "output_type": "execute_result"
    }
   ],
   "source": [
    "train.describe()"
   ]
  },
  {
   "cell_type": "code",
   "execution_count": null,
   "id": "7f2b2eed-2f50-4ee8-8253-2893c455209b",
   "metadata": {},
   "outputs": [],
   "source": []
  },
  {
   "cell_type": "markdown",
   "id": "4783ffc3-f9ef-4385-9799-b700ab554e31",
   "metadata": {},
   "source": [
    "# Explore"
   ]
  },
  {
   "cell_type": "markdown",
   "id": "a194150e-7c24-4b57-9654-2f469e918c06",
   "metadata": {},
   "source": [
    "## How often does churn occur?"
   ]
  },
  {
   "cell_type": "code",
   "execution_count": 5,
   "id": "dfa2a8de-880b-4280-b6ad-b8dc722517b2",
   "metadata": {},
   "outputs": [
    {
     "data": {
      "image/png": "[encoded data removed]",
      "text/plain": [
       "<Figure size 600x600 with 1 Axes>"
      ]
     },
     "metadata": {},
     "output_type": "display_data"
    }
   ],
   "source": [
    "# Get pie chart churn\n",
    "get_churn_pie()"
   ]
  },
  {
   "cell_type": "markdown",
   "id": "d28379b1-2093-4138-aea2-7825ac1a57bc",
   "metadata": {},
   "source": [
    "- A little over 1/4 of the datat accounts for churn"
   ]
  },
  {
   "cell_type": "markdown",
   "id": "f79c7243-6c5f-4e1a-9627-65540a825b2e",
   "metadata": {},
   "source": [
    "# 1.)  Does contract type affect churn?"
   ]
  },
  {
   "cell_type": "code",
   "execution_count": 6,
   "id": "6d2e14f0-c760-4311-b244-e129fc8d5fe1",
   "metadata": {},
   "outputs": [
    {
     "name": "stdout",
     "output_type": "stream",
     "text": [
      "Univariate assessment of feature contract_type:\n"
     ]
    },
    {
     "data": {
      "image/png": "[encoded data removed]",
      "text/plain": [
       "<Figure size 640x480 with 1 Axes>"
      ]
     },
     "metadata": {},
     "output_type": "display_data"
    },
    {
     "name": "stdout",
     "output_type": "stream",
     "text": [
      "                contract_type  contract_type\n",
      "Month-to-month           2176       0.551864\n",
      "Two year                  959       0.243216\n",
      "One year                  808       0.204920\n"
     ]
    }
   ],
   "source": [
    "# Get the univariant visualization for contract_type\n",
    "get_driver('contract_type')"
   ]
  },
  {
   "cell_type": "markdown",
   "id": "cf3695a5-a1e7-4774-baa8-40cdb5cd72c0",
   "metadata": {},
   "source": [
    "- Over half of the customer base have Month-to-month contracts"
   ]
  },
  {
   "cell_type": "markdown",
   "id": "dd273ea4-eb50-4c78-8bbf-36e1301fad18",
   "metadata": {},
   "source": [
    "#### I will do a chisquared statistical test on the two categories. \n",
    "- I will use a confidence interval of 95%\n",
    "- Leaving alpha as .05 "
   ]
  },
  {
   "cell_type": "markdown",
   "id": "dafc807e-b50c-41fe-9138-bb195b4f740d",
   "metadata": {
    "tags": []
   },
   "source": [
    "### H$_o$: contract type is not a driver for churn\n",
    "\n",
    "### H$_a$: contract type is a driver for churn\n",
    "\n"
   ]
  },
  {
   "cell_type": "code",
   "execution_count": 7,
   "id": "4de38562-cffd-47ba-bfb5-f334ab079aa9",
   "metadata": {},
   "outputs": [
    {
     "data": {
      "image/png": "[encoded data removed]",
      "text/plain": [
       "<Figure size 640x480 with 1 Axes>"
      ]
     },
     "metadata": {},
     "output_type": "display_data"
    },
    {
     "name": "stdout",
     "output_type": "stream",
     "text": [
      "We can reject our null hypothesis: and say that contract type can be a driver because the p value: 4.923817535766266e-149 is less that alpha: 0.05\n"
     ]
    }
   ],
   "source": [
    "# Get the bivariant visualization for contract_type and run a chisquared test on the two categories\n",
    "get_chisquared('contract_type')"
   ]
  },
  {
   "cell_type": "markdown",
   "id": "dc8411f7-f582-420d-9a01-03d9a51adea0",
   "metadata": {},
   "source": [
    "- About half of the churn lives in month-to-month contract\n",
    "- Since our null hypothesis is rejected we can use it in our modeling"
   ]
  },
  {
   "cell_type": "markdown",
   "id": "cd4b7a76-fced-472a-a9a8-8b6b25a5060e",
   "metadata": {
    "jp-MarkdownHeadingCollapsed": true,
    "tags": []
   },
   "source": []
  },
  {
   "cell_type": "markdown",
   "id": "9a1296bf-1b13-4930-a099-1d8bbb6815e5",
   "metadata": {},
   "source": [
    "## 2.) Are monthly charges a driver for churn?"
   ]
  },
  {
   "cell_type": "markdown",
   "id": "3c2291b3-64d1-4758-add8-9bf63a9c40d3",
   "metadata": {},
   "source": [
    "### H$_o$: monthly charges are not a driver for churn\n",
    "\n",
    "### H$_a$: monthly charges are a driver for churn"
   ]
  },
  {
   "cell_type": "markdown",
   "id": "067732dc-f25c-4eca-9485-ae32aed8fe9e",
   "metadata": {},
   "source": [
    "### Since our churn is categorical and monthly charges is continious I'm going to use a t-test to test my hypothesis. \n",
    "- I will use a confidence interval of 95%\n",
    "- Leaving alpha as .05 "
   ]
  },
  {
   "cell_type": "code",
   "execution_count": 8,
   "id": "af87b1c4-df4d-4003-93ce-d2e8f8f444e0",
   "metadata": {},
   "outputs": [
    {
     "data": {
      "image/png": "[encoded data removed]",
      "text/plain": [
       "<Figure size 640x480 with 1 Axes>"
      ]
     },
     "metadata": {},
     "output_type": "display_data"
    },
    {
     "name": "stdout",
     "output_type": "stream",
     "text": [
      "We can reject our null hypothesis: and say that being a monthly charges can be a driver because the p value: 4.877591649838506e-35 is less that alpha: 0.05\n"
     ]
    }
   ],
   "source": [
    "# Get monthly charges visual and run our stats test\n",
    "get_monthly_charges()"
   ]
  },
  {
   "cell_type": "markdown",
   "id": "d05ce679-9643-4832-8379-ad26e3c05d1d",
   "metadata": {},
   "source": [
    "#### Becasue the null hypothesis has been rejected I can use this as a driver for my model"
   ]
  },
  {
   "cell_type": "code",
   "execution_count": null,
   "id": "970ae85a-f8a4-421f-ac7d-09e08812bc7a",
   "metadata": {},
   "outputs": [],
   "source": []
  },
  {
   "cell_type": "markdown",
   "id": "e69c5afd-1210-43d9-8264-70346d42ec7e",
   "metadata": {
    "tags": []
   },
   "source": [
    "# 3.) Does internet type drive churn?"
   ]
  },
  {
   "cell_type": "markdown",
   "id": "3243e46c-c4d1-4d2b-9e6c-0b450701cd56",
   "metadata": {},
   "source": [
    "#### I will do a chisquared statistical test on the two categorical test. \n",
    "- I will use a confidence interval of 95%\n",
    "- Leaving alpha as .05 "
   ]
  },
  {
   "cell_type": "markdown",
   "id": "ec7d830c-c54d-4546-8793-463a271a7679",
   "metadata": {},
   "source": [
    "### H$_o$: internet type is not a driver for churn\n",
    "\n",
    "### H$_a$: internet type is a driver for churn"
   ]
  },
  {
   "cell_type": "code",
   "execution_count": 9,
   "id": "c1012942-a1b6-42c8-8bac-6b60a27c0173",
   "metadata": {},
   "outputs": [
    {
     "name": "stdout",
     "output_type": "stream",
     "text": [
      "Univariate assessment of feature internet_service_type:\n"
     ]
    },
    {
     "data": {
      "image/png": "[encoded data removed]",
      "text/plain": [
       "<Figure size 640x480 with 1 Axes>"
      ]
     },
     "metadata": {},
     "output_type": "display_data"
    },
    {
     "name": "stdout",
     "output_type": "stream",
     "text": [
      "             internet_service_type  internet_service_type\n",
      "Fiber optic                   1764               0.447375\n",
      "DSL                           1313               0.332995\n",
      "None                           866               0.219630\n"
     ]
    }
   ],
   "source": [
    "# get univarite visual and report\n",
    "get_driver('internet_service_type')"
   ]
  },
  {
   "cell_type": "markdown",
   "id": "596dd6a1-e970-454e-ac64-e8da3a390678",
   "metadata": {},
   "source": [
    "#### Since internet service type has enough significant churn amount I'm gonna run a chisquared test on it. \n",
    "- I will use a confidence interval of 95%\n",
    "- Leaving alpha as .05 "
   ]
  },
  {
   "cell_type": "code",
   "execution_count": 10,
   "id": "a8d303a9-cf11-48e2-9d95-b9833a3dc289",
   "metadata": {},
   "outputs": [
    {
     "data": {
      "image/png": "[encoded data removed]",
      "text/plain": [
       "<Figure size 640x480 with 1 Axes>"
      ]
     },
     "metadata": {},
     "output_type": "display_data"
    },
    {
     "name": "stdout",
     "output_type": "stream",
     "text": [
      "We can reject our null hypothesis: and say that contract type can be a driver because the p value: 4.20026357373882e-90 is less that alpha: 0.05\n"
     ]
    }
   ],
   "source": [
    "# get stats test and visual\n",
    "get_chisquared('internet_service_type')"
   ]
  },
  {
   "cell_type": "markdown",
   "id": "da37ddaf-aa85-45b4-a43b-10d19e78256d",
   "metadata": {},
   "source": [
    "#### Becasue the null hypothesis has been rejected I can use this as a driver for my model"
   ]
  },
  {
   "cell_type": "code",
   "execution_count": null,
   "id": "11570561-d0d4-4e9e-83ca-a0187c934aa0",
   "metadata": {},
   "outputs": [],
   "source": []
  },
  {
   "cell_type": "markdown",
   "id": "94ec94d1-da2b-49ec-984f-0d295fce6ffe",
   "metadata": {},
   "source": [
    "# Exploration Summary"
   ]
  },
  {
   "cell_type": "markdown",
   "id": "a628a16e-ec41-428b-8e87-93af658ce352",
   "metadata": {},
   "source": [
    "- Churn amount for contract type is over double compared to the other contract types\n",
    "- The majority of churn comes from the monthly payments living in the 60 - 90 dollar range\n",
    "- Churn rate at roughly 26 percent \n",
    "- 44% of internet service type came from fiberoptic "
   ]
  },
  {
   "cell_type": "code",
   "execution_count": null,
   "id": "55ce2d58-e100-4458-8aff-469c59164200",
   "metadata": {},
   "outputs": [],
   "source": []
  },
  {
   "cell_type": "markdown",
   "id": "e2862988-1287-4907-9878-cbd5857fb4b3",
   "metadata": {},
   "source": [
    "# Features I'm moving on to modeling with:\n",
    "- contract type\n",
    "- monthly charges\n",
    "- internet service type\n"
   ]
  },
  {
   "cell_type": "code",
   "execution_count": null,
   "id": "f4927888-9f42-4450-afd3-f30cf27e8086",
   "metadata": {},
   "outputs": [],
   "source": []
  },
  {
   "cell_type": "markdown",
   "id": "9e7123f9-8a4a-41d6-a898-e6e53c45bbf1",
   "metadata": {},
   "source": [
    "# Modeling \n",
    "- I will use accuracy and recall as my evaluation metric\n",
    "- Non churns make up 74% of the data"
   ]
  },
  {
   "cell_type": "markdown",
   "id": "f0aa5067-f6d5-4987-bff1-487dc2f2501c",
   "metadata": {},
   "source": [
    "- Since No churn is the majority I will use it as the baseline prediciton\n",
    "- I will be running three different models with my drivers from exploration"
   ]
  },
  {
   "cell_type": "markdown",
   "id": "7ce21cc2-9e08-4f49-a43e-249ad00665fa",
   "metadata": {},
   "source": [
    "# Decision Tree"
   ]
  },
  {
   "cell_type": "code",
   "execution_count": 11,
   "id": "0958796d-e1c5-4c40-a463-8fa01197c086",
   "metadata": {},
   "outputs": [
    {
     "name": "stdout",
     "output_type": "stream",
     "text": [
      "              precision    recall  f1-score   support\n",
      "\n",
      "           0       0.83      0.88      0.85      2897\n",
      "           1       0.59      0.49      0.54      1046\n",
      "\n",
      "    accuracy                           0.77      3943\n",
      "   macro avg       0.71      0.68      0.69      3943\n",
      "weighted avg       0.76      0.77      0.77      3943\n",
      "\n",
      "Accuracy of Random Tree classifier on training set: 0.77\n",
      "Accuracy of Random Tree classifier on validation set: 0.75\n"
     ]
    },
    {
     "data": {
      "text/html": [
       "<style>#sk-container-id-1 {color: black;background-color: white;}#sk-container-id-1 pre{padding: 0;}#sk-container-id-1 div.sk-toggleable {background-color: white;}#sk-container-id-1 label.sk-toggleable__label {cursor: pointer;display: block;width: 100%;margin-bottom: 0;padding: 0.3em;box-sizing: border-box;text-align: center;}#sk-container-id-1 label.sk-toggleable__label-arrow:before {content: \"▸\";float: left;margin-right: 0.25em;color: #696969;}#sk-container-id-1 label.sk-toggleable__label-arrow:hover:before {color: black;}#sk-container-id-1 div.sk-estimator:hover label.sk-toggleable__label-arrow:before {color: black;}#sk-container-id-1 div.sk-toggleable__content {max-height: 0;max-width: 0;overflow: hidden;text-align: left;background-color: #f0f8ff;}#sk-container-id-1 div.sk-toggleable__content pre {margin: 0.2em;color: black;border-radius: 0.25em;background-color: #f0f8ff;}#sk-container-id-1 input.sk-toggleable__control:checked~div.sk-toggleable__content {max-height: 200px;max-width: 100%;overflow: auto;}#sk-container-id-1 input.sk-toggleable__control:checked~label.sk-toggleable__label-arrow:before {content: \"▾\";}#sk-container-id-1 div.sk-estimator input.sk-toggleable__control:checked~label.sk-toggleable__label {background-color: #d4ebff;}#sk-container-id-1 div.sk-label input.sk-toggleable__control:checked~label.sk-toggleable__label {background-color: #d4ebff;}#sk-container-id-1 input.sk-hidden--visually {border: 0;clip: rect(1px 1px 1px 1px);clip: rect(1px, 1px, 1px, 1px);height: 1px;margin: -1px;overflow: hidden;padding: 0;position: absolute;width: 1px;}#sk-container-id-1 div.sk-estimator {font-family: monospace;background-color: #f0f8ff;border: 1px dotted black;border-radius: 0.25em;box-sizing: border-box;margin-bottom: 0.5em;}#sk-container-id-1 div.sk-estimator:hover {background-color: #d4ebff;}#sk-container-id-1 div.sk-parallel-item::after {content: \"\";width: 100%;border-bottom: 1px solid gray;flex-grow: 1;}#sk-container-id-1 div.sk-label:hover label.sk-toggleable__label {background-color: #d4ebff;}#sk-container-id-1 div.sk-serial::before {content: \"\";position: absolute;border-left: 1px solid gray;box-sizing: border-box;top: 0;bottom: 0;left: 50%;z-index: 0;}#sk-container-id-1 div.sk-serial {display: flex;flex-direction: column;align-items: center;background-color: white;padding-right: 0.2em;padding-left: 0.2em;position: relative;}#sk-container-id-1 div.sk-item {position: relative;z-index: 1;}#sk-container-id-1 div.sk-parallel {display: flex;align-items: stretch;justify-content: center;background-color: white;position: relative;}#sk-container-id-1 div.sk-item::before, #sk-container-id-1 div.sk-parallel-item::before {content: \"\";position: absolute;border-left: 1px solid gray;box-sizing: border-box;top: 0;bottom: 0;left: 50%;z-index: -1;}#sk-container-id-1 div.sk-parallel-item {display: flex;flex-direction: column;z-index: 1;position: relative;background-color: white;}#sk-container-id-1 div.sk-parallel-item:first-child::after {align-self: flex-end;width: 50%;}#sk-container-id-1 div.sk-parallel-item:last-child::after {align-self: flex-start;width: 50%;}#sk-container-id-1 div.sk-parallel-item:only-child::after {width: 0;}#sk-container-id-1 div.sk-dashed-wrapped {border: 1px dashed gray;margin: 0 0.4em 0.5em 0.4em;box-sizing: border-box;padding-bottom: 0.4em;background-color: white;}#sk-container-id-1 div.sk-label label {font-family: monospace;font-weight: bold;display: inline-block;line-height: 1.2em;}#sk-container-id-1 div.sk-label-container {text-align: center;}#sk-container-id-1 div.sk-container {/* jupyter's `normalize.less` sets `[hidden] { display: none; }` but bootstrap.min.css set `[hidden] { display: none !important; }` so we also need the `!important` here to be able to override the default hidden behavior on the sphinx rendered scikit-learn.org. See: https://github.com/scikit-learn/scikit-learn/issues/21755 */display: inline-block !important;position: relative;}#sk-container-id-1 div.sk-text-repr-fallback {display: none;}</style><div id=\"sk-container-id-1\" class=\"sk-top-container\"><div class=\"sk-text-repr-fallback\"><pre>DecisionTreeClassifier(max_depth=5, random_state=706)</pre><b>In a Jupyter environment, please rerun this cell to show the HTML representation or trust the notebook. <br />On GitHub, the HTML representation is unable to render, please try loading this page with nbviewer.org.</b></div><div class=\"sk-container\" hidden><div class=\"sk-item\"><div class=\"sk-estimator sk-toggleable\"><input class=\"sk-toggleable__control sk-hidden--visually\" id=\"sk-estimator-id-1\" type=\"checkbox\" checked><label for=\"sk-estimator-id-1\" class=\"sk-toggleable__label sk-toggleable__label-arrow\">DecisionTreeClassifier</label><div class=\"sk-toggleable__content\"><pre>DecisionTreeClassifier(max_depth=5, random_state=706)</pre></div></div></div></div></div>"
      ],
      "text/plain": [
       "DecisionTreeClassifier(max_depth=5, random_state=706)"
      ]
     },
     "execution_count": 11,
     "metadata": {},
     "output_type": "execute_result"
    }
   ],
   "source": [
    "# Get the decision tree model\n",
    "get_decisionTree_model()"
   ]
  },
  {
   "cell_type": "markdown",
   "id": "b76a8a89-0c2d-40d6-bdd8-319cd6c97635",
   "metadata": {},
   "source": [
    "- Decision Tree accuracy on training pretty consistent and not much drop off on validation but the recall is pretty low"
   ]
  },
  {
   "cell_type": "markdown",
   "id": "fd695ee6-2481-49f2-b258-86a7b6de052e",
   "metadata": {},
   "source": [
    "# Random Forest"
   ]
  },
  {
   "cell_type": "code",
   "execution_count": 12,
   "id": "a942934f-d3d7-4eeb-b5ce-9c9f371ee43e",
   "metadata": {},
   "outputs": [
    {
     "name": "stdout",
     "output_type": "stream",
     "text": [
      "              precision    recall  f1-score   support\n",
      "\n",
      "           0       0.79      0.92      0.85      2897\n",
      "           1       0.58      0.31      0.40      1046\n",
      "\n",
      "    accuracy                           0.76      3943\n",
      "   macro avg       0.69      0.61      0.62      3943\n",
      "weighted avg       0.73      0.76      0.73      3943\n",
      "\n"
     ]
    },
    {
     "data": {
      "text/html": [
       "<div>\n",
       "<style scoped>\n",
       "    .dataframe tbody tr th:only-of-type {\n",
       "        vertical-align: middle;\n",
       "    }\n",
       "\n",
       "    .dataframe tbody tr th {\n",
       "        vertical-align: top;\n",
       "    }\n",
       "\n",
       "    .dataframe thead th {\n",
       "        text-align: right;\n",
       "    }\n",
       "</style>\n",
       "<table border=\"1\" class=\"dataframe\">\n",
       "  <thead>\n",
       "    <tr style=\"text-align: right;\">\n",
       "      <th></th>\n",
       "      <th>min_samples_per_leaf</th>\n",
       "      <th>max_depth</th>\n",
       "      <th>train_accuracy</th>\n",
       "      <th>validate_accuracy</th>\n",
       "      <th>model_preds</th>\n",
       "      <th>difference</th>\n",
       "      <th>baseline_accuracy</th>\n",
       "    </tr>\n",
       "  </thead>\n",
       "  <tbody>\n",
       "    <tr>\n",
       "      <th>2</th>\n",
       "      <td>1</td>\n",
       "      <td>4</td>\n",
       "      <td>0.768197</td>\n",
       "      <td>0.754583</td>\n",
       "      <td>[1, 0, 0, 0, 0, 0, 1, 0, 0, 0, 1, 0, 1, 1, 1, ...</td>\n",
       "      <td>0.013614</td>\n",
       "      <td>0.73472</td>\n",
       "    </tr>\n",
       "  </tbody>\n",
       "</table>\n",
       "</div>"
      ],
      "text/plain": [
       "   min_samples_per_leaf  max_depth  train_accuracy  validate_accuracy  \\\n",
       "2                     1          4        0.768197           0.754583   \n",
       "\n",
       "                                         model_preds  difference  \\\n",
       "2  [1, 0, 0, 0, 0, 0, 1, 0, 0, 0, 1, 0, 1, 1, 1, ...    0.013614   \n",
       "\n",
       "   baseline_accuracy  \n",
       "2            0.73472  "
      ]
     },
     "execution_count": 12,
     "metadata": {},
     "output_type": "execute_result"
    }
   ],
   "source": [
    "# Get the random forest model and returns the best model from the forest\n",
    "get_random_forest()"
   ]
  },
  {
   "cell_type": "markdown",
   "id": "840979cb-2ab5-4fbf-bcba-66279118e191",
   "metadata": {},
   "source": [
    "- accuracy and recall very slightly higher than the random tree"
   ]
  },
  {
   "cell_type": "markdown",
   "id": "b88cd1b5-4682-4bc9-a8ed-9dc3da21df25",
   "metadata": {},
   "source": [
    "# Logistic Regression"
   ]
  },
  {
   "cell_type": "code",
   "execution_count": 13,
   "id": "bb2062bd-a59a-4d3b-8990-fa4076d977ec",
   "metadata": {},
   "outputs": [
    {
     "name": "stdout",
     "output_type": "stream",
     "text": [
      "Accuracy of Logistic Regression classifier on training set: 0.76\n",
      "Accuracy of Logistic Regression classifier on validation set: 0.76\n",
      "              precision    recall  f1-score   support\n",
      "\n",
      "           0       0.86      0.81      0.83      2897\n",
      "           1       0.54      0.63      0.58      1046\n",
      "\n",
      "    accuracy                           0.76      3943\n",
      "   macro avg       0.70      0.72      0.71      3943\n",
      "weighted avg       0.77      0.76      0.77      3943\n",
      "\n"
     ]
    }
   ],
   "source": [
    "# get the logistial regression model\n",
    "get_logReg_model('train_val')"
   ]
  },
  {
   "cell_type": "markdown",
   "id": "e9c0630c-b604-4102-9775-9d9ec8d065bc",
   "metadata": {},
   "source": [
    "- Accuracy is one percent lower but much a better recall "
   ]
  },
  {
   "cell_type": "markdown",
   "id": "69521605-5f8a-433f-9275-76616e1767c2",
   "metadata": {},
   "source": [
    "# Comparing Models\n",
    "- All of the models preformed very similiarly on accuracy with the train and validation data sets\n",
    "- Because the Ligistical Regression model preformed better with recall I'm choosing it to move on to the test data."
   ]
  },
  {
   "cell_type": "code",
   "execution_count": null,
   "id": "85351b24-232a-4d92-93b0-d79c0f6d8c2c",
   "metadata": {},
   "outputs": [],
   "source": []
  },
  {
   "cell_type": "markdown",
   "id": "2cd5afe0-ba3f-4529-bacf-e089bdb8eee6",
   "metadata": {},
   "source": [
    "# Logistic Regression on Test"
   ]
  },
  {
   "cell_type": "code",
   "execution_count": 14,
   "id": "e08f9828-900a-4539-81c7-b9fdb799cd09",
   "metadata": {},
   "outputs": [
    {
     "name": "stdout",
     "output_type": "stream",
     "text": [
      "Accuracy of logistic regression classifier on test set: 0.77\n"
     ]
    }
   ],
   "source": [
    "# Get results on test data\n",
    "get_logReg_model('test')"
   ]
  },
  {
   "cell_type": "markdown",
   "id": "51594868-7e0e-4489-a971-17667fe3711e",
   "metadata": {},
   "source": [
    "# Modeling Sumary \n",
    "- All models preformed very similiar to each other\n",
    "- Only the Logistical Regresson had the best recall at 63%\n",
    "- Model in test production did 3% better than basline prediction\n"
   ]
  },
  {
   "cell_type": "code",
   "execution_count": null,
   "id": "4e5c688c-07dc-4a3b-9d84-098afe5c1ad0",
   "metadata": {},
   "outputs": [],
   "source": []
  },
  {
   "cell_type": "markdown",
   "id": "e4ddeb39-40aa-4b59-b372-fdf1da695d1f",
   "metadata": {},
   "source": [
    "# Conclusions"
   ]
  },
  {
   "cell_type": "markdown",
   "id": "0ebe40f1-6bb5-4903-9bdc-77ab25403172",
   "metadata": {},
   "source": [
    "### Exploration\n",
    "- churn consist of 26% of the data\n",
    "- Contract type seem to be the highest driver\n",
    "- Most churn came from monthly charges in the 60 - 90 dollar range\n",
    "- The fiber optic internet service type had the highest volume of churn "
   ]
  },
  {
   "cell_type": "code",
   "execution_count": null,
   "id": "07cc111c-30ea-49fb-951a-7511d86a7b57",
   "metadata": {},
   "outputs": [],
   "source": []
  },
  {
   "cell_type": "markdown",
   "id": "d825337a-a63e-44dc-988d-065f1292a3d7",
   "metadata": {},
   "source": [
    "### Modeling \n",
    "- All models were able to predict higher than the baseline\n",
    "- The logistical regression model had the best recall"
   ]
  },
  {
   "cell_type": "code",
   "execution_count": null,
   "id": "edcee425-0c86-48b6-9e5c-4bcf7abb727d",
   "metadata": {},
   "outputs": [],
   "source": []
  },
  {
   "cell_type": "markdown",
   "id": "423f71ce-26ff-4b67-8b8b-166a5bed95b2",
   "metadata": {},
   "source": [
    "# Reccomendations \n",
    "- Consider looking into contract type. At face value having month to month looks like a huge driver for churn but futher data on customer return-rate could tell a different story.\n",
    "- Consider looking at monthly charges and determine if charge rate is competitive with the market"
   ]
  },
  {
   "cell_type": "markdown",
   "id": "193d76f9-4bfa-4ff0-b896-41cb17df55af",
   "metadata": {},
   "source": [
    "# Next Steps\n",
    "- Fine tune the models to get beter preformance \n",
    "    - Do more in depth feature analsys and stats testing\n",
    "- With other types of data to add to current like customer return rate could help to explain the churn from month to month contract type."
   ]
  },
  {
   "cell_type": "code",
   "execution_count": null,
   "id": "0ac32bc3-696c-45d1-a4d3-3d929f5473ee",
   "metadata": {},
   "outputs": [],
   "source": []
  }
 ],
 "metadata": {
  "kernelspec": {
   "display_name": "Python 3 (ipykernel)",
   "language": "python",
   "name": "python3"
  },
  "language_info": {
   "codemirror_mode": {
    "name": "ipython",
    "version": 3
   },
   "file_extension": ".py",
   "mimetype": "text/x-python",
   "name": "python",
   "nbconvert_exporter": "python",
   "pygments_lexer": "ipython3",
   "version": "3.9.13"
  }
 },
 "nbformat": 4,
 "nbformat_minor": 5
}
